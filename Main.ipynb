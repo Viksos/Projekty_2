{
 "cells": [
  {
   "cell_type": "code",
   "execution_count": 1,
   "id": "62763af1-0b8a-4bb6-9c0a-74626426e880",
   "metadata": {
    "id": "62763af1-0b8a-4bb6-9c0a-74626426e880",
    "outputId": "c6f57bb0-59d4-48ee-b15d-2b18c9a4239c"
   },
   "outputs": [
    {
     "name": "stdout",
     "output_type": "stream",
     "text": [
      "Collecting sklearn\n",
      "  Downloading sklearn-0.0.tar.gz (1.1 kB)\n",
      "Collecting scikit-learn\n",
      "  Downloading scikit_learn-1.0.1-cp37-cp37m-manylinux_2_12_x86_64.manylinux2010_x86_64.whl (23.2 MB)\n",
      "\u001b[K     |████████████████████████████████| 23.2 MB 4.6 MB/s eta 0:00:01\n",
      "\u001b[?25hCollecting threadpoolctl>=2.0.0\n",
      "  Downloading threadpoolctl-3.0.0-py3-none-any.whl (14 kB)\n",
      "Requirement already satisfied: numpy>=1.14.6 in /srv/conda/envs/notebook/lib/python3.7/site-packages (from scikit-learn->sklearn) (1.21.4)\n",
      "Collecting joblib>=0.11\n",
      "  Downloading joblib-1.1.0-py2.py3-none-any.whl (306 kB)\n",
      "\u001b[K     |████████████████████████████████| 306 kB 78.9 MB/s eta 0:00:01\n",
      "\u001b[?25hRequirement already satisfied: scipy>=1.1.0 in /srv/conda/envs/notebook/lib/python3.7/site-packages (from scikit-learn->sklearn) (1.7.2)\n",
      "Building wheels for collected packages: sklearn\n",
      "  Building wheel for sklearn (setup.py) ... \u001b[?25ldone\n",
      "\u001b[?25h  Created wheel for sklearn: filename=sklearn-0.0-py2.py3-none-any.whl size=1309 sha256=9b7e717c317451711cc0f998c475d6fa2dea8654a3b32a6a33337a291fb20c67\n",
      "  Stored in directory: /home/jovyan/.cache/pip/wheels/46/ef/c3/157e41f5ee1372d1be90b09f74f82b10e391eaacca8f22d33e\n",
      "Successfully built sklearn\n",
      "Installing collected packages: threadpoolctl, joblib, scikit-learn, sklearn\n",
      "Successfully installed joblib-1.1.0 scikit-learn-1.0.1 sklearn-0.0 threadpoolctl-3.0.0\n",
      "Note: you may need to restart the kernel to use updated packages.\n"
     ]
    }
   ],
   "source": [
    "pip install sklearn"
   ]
  },
  {
   "cell_type": "code",
   "execution_count": 2,
   "id": "ac2ed5f6-20b9-4fee-bcfb-b5384f6f9b5a",
   "metadata": {},
   "outputs": [
    {
     "name": "stdout",
     "output_type": "stream",
     "text": [
      "Collecting pandas\n",
      "  Downloading pandas-1.3.4-cp37-cp37m-manylinux_2_17_x86_64.manylinux2014_x86_64.whl (11.3 MB)\n",
      "\u001b[K     |████████████████████████████████| 11.3 MB 4.7 MB/s eta 0:00:01\n",
      "\u001b[?25hRequirement already satisfied: numpy>=1.17.3 in /srv/conda/envs/notebook/lib/python3.7/site-packages (from pandas) (1.21.4)\n",
      "Requirement already satisfied: pytz>=2017.3 in /srv/conda/envs/notebook/lib/python3.7/site-packages (from pandas) (2021.3)\n",
      "Requirement already satisfied: python-dateutil>=2.7.3 in /srv/conda/envs/notebook/lib/python3.7/site-packages (from pandas) (2.8.2)\n",
      "Requirement already satisfied: six>=1.5 in /srv/conda/envs/notebook/lib/python3.7/site-packages (from python-dateutil>=2.7.3->pandas) (1.16.0)\n",
      "Installing collected packages: pandas\n",
      "Successfully installed pandas-1.3.4\n",
      "Note: you may need to restart the kernel to use updated packages.\n"
     ]
    }
   ],
   "source": [
    "pip install pandas"
   ]
  },
  {
   "cell_type": "code",
   "execution_count": 3,
   "id": "48d85a83-e09c-4c82-b1fa-0cc5b0e4e881",
   "metadata": {},
   "outputs": [
    {
     "name": "stdout",
     "output_type": "stream",
     "text": [
      "Collecting seaborn\n",
      "  Downloading seaborn-0.11.2-py3-none-any.whl (292 kB)\n",
      "\u001b[K     |████████████████████████████████| 292 kB 4.7 MB/s eta 0:00:01\n",
      "\u001b[?25hRequirement already satisfied: matplotlib>=2.2 in /srv/conda/envs/notebook/lib/python3.7/site-packages (from seaborn) (3.5.0)\n",
      "Requirement already satisfied: numpy>=1.15 in /srv/conda/envs/notebook/lib/python3.7/site-packages (from seaborn) (1.21.4)\n",
      "Requirement already satisfied: scipy>=1.0 in /srv/conda/envs/notebook/lib/python3.7/site-packages (from seaborn) (1.7.2)\n",
      "Requirement already satisfied: pandas>=0.23 in /srv/conda/envs/notebook/lib/python3.7/site-packages (from seaborn) (1.3.4)\n",
      "Requirement already satisfied: kiwisolver>=1.0.1 in /srv/conda/envs/notebook/lib/python3.7/site-packages (from matplotlib>=2.2->seaborn) (1.3.2)\n",
      "Requirement already satisfied: python-dateutil>=2.7 in /srv/conda/envs/notebook/lib/python3.7/site-packages (from matplotlib>=2.2->seaborn) (2.8.2)\n",
      "Requirement already satisfied: packaging>=20.0 in /srv/conda/envs/notebook/lib/python3.7/site-packages (from matplotlib>=2.2->seaborn) (21.0)\n",
      "Requirement already satisfied: cycler>=0.10 in /srv/conda/envs/notebook/lib/python3.7/site-packages (from matplotlib>=2.2->seaborn) (0.11.0)\n",
      "Requirement already satisfied: pyparsing>=2.2.1 in /srv/conda/envs/notebook/lib/python3.7/site-packages (from matplotlib>=2.2->seaborn) (2.4.7)\n",
      "Requirement already satisfied: fonttools>=4.22.0 in /srv/conda/envs/notebook/lib/python3.7/site-packages (from matplotlib>=2.2->seaborn) (4.28.1)\n",
      "Requirement already satisfied: pillow>=6.2.0 in /srv/conda/envs/notebook/lib/python3.7/site-packages (from matplotlib>=2.2->seaborn) (8.4.0)\n",
      "Requirement already satisfied: pytz>=2017.3 in /srv/conda/envs/notebook/lib/python3.7/site-packages (from pandas>=0.23->seaborn) (2021.3)\n",
      "Requirement already satisfied: six>=1.5 in /srv/conda/envs/notebook/lib/python3.7/site-packages (from python-dateutil>=2.7->matplotlib>=2.2->seaborn) (1.16.0)\n",
      "Installing collected packages: seaborn\n",
      "Successfully installed seaborn-0.11.2\n",
      "Note: you may need to restart the kernel to use updated packages.\n"
     ]
    }
   ],
   "source": [
    "pip install seaborn"
   ]
  },
  {
   "cell_type": "code",
   "execution_count": 13,
   "id": "550f2a87-5f76-41c3-875f-2a2c64b64a3a",
   "metadata": {
    "id": "550f2a87-5f76-41c3-875f-2a2c64b64a3a"
   },
   "outputs": [],
   "source": [
    "#Import\n",
    "import pandas as pd\n",
    "import matplotlib.pyplot as plt\n",
    "from sklearn import tree\n",
    "from sklearn.metrics import mean_squared_error\n",
    "import numpy as np\n",
    "import seaborn as sns"
   ]
  },
  {
   "cell_type": "code",
   "execution_count": 30,
   "id": "9c9f1cdc-55d0-47ba-9721-1b4b81e77b00",
   "metadata": {
    "id": "9c9f1cdc-55d0-47ba-9721-1b4b81e77b00"
   },
   "outputs": [],
   "source": [
    "#Komórka na importy\n",
    "file_name = 'dane.csv'\n",
    "model_type = 'DTR' # choose MLR for multi linear regression, KNN for KNeighbors Regression, RF for random forest regression,SVR for Support Vector Regression, DTR for Decision Tree Regression\n",
    "split_size = 0.33  # proportions for train and test data e.g split_size = 0.33 so 77% of data is in train da\n",
    "criterion,splitter = 'squared_error','best' #used when model_type is 'DTR'\n",
    "#criterion{“squared_error”, “friedman_mse”, “absolute_error”, “poisson”},\n",
    "#The function to measure the quality of a split. Supported criteria are “squared_error” for the mean squared\n",
    "#error, which is equal to variance reduction as feature selection criterion and minimizes the L2 loss using the\n",
    "#mean of each terminal node, “friedman_mse”, which uses mean squared error with Friedman’s improvement\n",
    "#score for potential splits, “absolute_error” for the mean absolute error, which minimizes the L1 loss using the\n",
    "#median of each terminal node, and “poisson” which uses reduction in Poisson deviance to find splits.\n",
    "#splitter{“best”, “random”}\n",
    "#he strategy used to choose the split at each node. Supported strategies are “best” to choose the best split and “random” to choose the best random split.\n",
    "\n",
    "#Tu dodajcie te zmienne od których wasz model może zależeć (chodzi o hyperparamety)\n"
   ]
  },
  {
   "cell_type": "code",
   "execution_count": 31,
   "id": "7122b363-beb8-42ff-ae9c-fc19abc8c96b",
   "metadata": {
    "id": "7122b363-beb8-42ff-ae9c-fc19abc8c96b",
    "outputId": "f3ec4f08-e4bf-4047-cc5b-90f73def16c0"
   },
   "outputs": [],
   "source": [
    "# ujednolicenie zmiennych\n",
    "df = pd.read_csv(file_name)\n",
    "predictions = pd.DataFrame()\n",
    "#Tymczasowy podział danych\n",
    "from sklearn.model_selection import train_test_split\n",
    "    \n",
    "X, y = df.drop(columns=['y']).to_numpy(),df['y'].to_numpy()\n",
    "X_train, X_test, y_train, y_test = train_test_split(X, y,test_size = split_size, random_state=1)\n",
    "\n",
    "# Podział Danych za pomocą GA (Adrian)\n",
    "#TODO\n",
    "# proszę nazwij ostatecznie podział tak jak w tymczasowym podziale\n",
    "\n",
    "#Model MLR (Paula)\n",
    "#TODO\n",
    "#predictions['MLR'] = y_pred\n",
    "\n",
    "#Model KNN (Paula)\n",
    "#TODO\n",
    "#predictions['KNN'] = y_pred\n",
    "\n",
    "# Model RF (Ada)\n",
    "#TODO\n",
    "#predictions['RF'] = y_pred\n",
    "\n",
    "# Model SVR (Ada)\n",
    "#TODO\n",
    "#predictions['SVR'] = y_pred\n",
    "\n",
    "# Model DTR (Michał)\n",
    "def DTR_model(X_train,X_test,y_train,criterion1, splitter1):\n",
    "    DTR = tree.DecisionTreeRegressor(criterion=criterion1,splitter= splitter1)\n",
    "    DTR = DTR.fit(X_train, y_train)\n",
    "    y_pred = DTR.predict(X_test)\n",
    "    y_pred_train = DTR.predict(X_train)\n",
    "    predictions['DTR'] = y_pred\n",
    "    #predictions_train['DTR_train'] = y_pred_train\n",
    "\n",
    "    return(DTR)"
   ]
  },
  {
   "cell_type": "code",
   "execution_count": null,
   "id": "7a50c4ad-b64c-4324-bf44-09b734ca5b92",
   "metadata": {},
   "outputs": [],
   "source": []
  },
  {
   "cell_type": "code",
   "execution_count": 36,
   "id": "88000256-6db1-4dd3-a884-8638deaba5a1",
   "metadata": {
    "tags": []
   },
   "outputs": [
    {
     "name": "stdout",
     "output_type": "stream",
     "text": [
      "RMSE =  36.24210621046363  R^2 =  0.6468943299107048\n"
     ]
    }
   ],
   "source": [
    "def leverage(X_test):\n",
    "    X = []\n",
    "\n",
    "    for i in range(len(X_test)):\n",
    "        Y = [1]+[X_test[i][j] for j in range(len(X_test[i]))]\n",
    "        X.append(Y)\n",
    "    X = np.array(X)\n",
    "    X = np.asmatrix(X)  \n",
    "    XT = X.transpose()\n",
    "    XX1 = np.linalg.inv(np.dot(XT,X))\n",
    "    H = np.dot(np.dot(X,XX1),XT)\n",
    "    hi = [np.asarray(H)[i][i] for i in range(len(np.asarray(H)))]\n",
    "    return(hi)\n",
    "\n",
    "def std_res(y_pred,y_test,hi):\n",
    "    std_res = []\n",
    "    for i in range(len(y_pred)):\n",
    "        std_res.append(y_test[i]/(y_pred[i]*np.sqrt(1-hi[i])))\n",
    "    return(std_res)\n",
    "\n",
    "if(model_type == 'DTR'):\n",
    "    model = DTR_model(X_train,X_test,y_train,criterion,splitter)\n",
    "elif(model_type == ''):\n",
    "    pass #zróbcie podobne dopiski tu i będzie dalej wszystko działać\n",
    "\n",
    "from sklearn.metrics import r2_score\n",
    "y_pred = model.predict(X_test)\n",
    "y_pred_train = model.predict(X_train)\n",
    "hi= leverage(X_test)\n",
    "std_res1 = std_res(y_pred,y_test,hi)\n",
    "hi_train = leverage(X_train)\n",
    "std_res2 = std_res(y_pred_train,y_train,hi_train)\n",
    "print('RMSE = ',mean_squared_error(y_test, y_pred,squared=False),' R^2 = ', r2_score(y_test,y_pred))\n"
   ]
  },
  {
   "cell_type": "code",
   "execution_count": 33,
   "id": "267daccb-ff91-43dc-ba3f-baf021f513b8",
   "metadata": {},
   "outputs": [
    {
     "data": {
      "text/plain": [
       "Text(0, 0.5, 'Standardized Residuals')"
      ]
     },
     "execution_count": 33,
     "metadata": {},
     "output_type": "execute_result"
    },
    {
     "data": {
      "image/png": "[encoded data removed]",
      "text/plain": [
       "<Figure size 432x288 with 1 Axes>"
      ]
     },
     "metadata": {
      "needs_background": "light"
     },
     "output_type": "display_data"
    }
   ],
   "source": [
    "plot_lm_4 = plt.figure()\n",
    "plt.scatter(hi, std_res1, alpha=0.5)\n",
    "plt.scatter(hi_train, std_res2, alpha=0.5)\n",
    "#sns.regplot(hi, std_res)#,scatter=False,ci=False,lowess=True,line_kws={'color': 'red', 'lw': 1, 'alpha': 0.8})\n",
    "plot_lm_4.axes[0].set_xlim(0, max(hi)+0.01)\n",
    "plot_lm_4.axes[0].set_ylim(-3, 5)\n",
    "plot_lm_4.axes[0].set_title('Residuals vs Leverage')\n",
    "plot_lm_4.axes[0].set_xlabel('Leverage')\n",
    "plot_lm_4.axes[0].set_ylabel('Standardized Residuals')\n"
   ]
  },
  {
   "cell_type": "code",
   "execution_count": 34,
   "id": "bed00de9-bcda-4146-9b6e-26ef6a415b3b",
   "metadata": {
    "id": "bed00de9-bcda-4146-9b6e-26ef6a415b3b",
    "outputId": "e05a517e-650c-4f47-b109-92f62881a8c2"
   },
   "outputs": [
    {
     "data": {
      "image/png": "[encoded data removed]",
      "text/plain": [
       "<Figure size 432x288 with 1 Axes>"
      ]
     },
     "metadata": {
      "needs_background": "light"
     },
     "output_type": "display_data"
    }
   ],
   "source": [
    "#Output (wykresiki Michał)\n",
    "x = [i for i in range(len(y_pred))]\n",
    "plt.scatter(x,y_pred, color = 'red')\n",
    "plt.scatter(x,y_test, color = 'green')\n",
    "plt.show()"
   ]
  },
  {
   "cell_type": "code",
   "execution_count": null,
   "id": "8733feff-b927-41d2-a3b6-2052d414c281",
   "metadata": {
    "id": "8733feff-b927-41d2-a3b6-2052d414c281"
   },
   "outputs": [],
   "source": []
  }
 ],
 "metadata": {
  "colab": {
   "name": "Main.ipynb",
   "provenance": []
  },
  "kernelspec": {
   "display_name": "Python 3 (ipykernel)",
   "language": "python",
   "name": "python3"
  },
  "language_info": {
   "codemirror_mode": {
    "name": "ipython",
    "version": 3
   },
   "file_extension": ".py",
   "mimetype": "text/x-python",
   "name": "python",
   "nbconvert_exporter": "python",
   "pygments_lexer": "ipython3",
   "version": "3.7.10"
  }
 },
 "nbformat": 4,
 "nbformat_minor": 5
}
