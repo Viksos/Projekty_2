{
  "nbformat": 4,
  "nbformat_minor": 5,
  "metadata": {
    "colab": {
      "name": "Main.ipynb",
      "provenance": []
    },
    "kernelspec": {
      "display_name": "Python 3 (ipykernel)",
      "language": "python",
      "name": "python3"
    },
    "language_info": {
      "codemirror_mode": {
        "name": "ipython",
        "version": 3
      },
      "file_extension": ".py",
      "mimetype": "text/x-python",
      "name": "python",
      "nbconvert_exporter": "python",
      "pygments_lexer": "ipython3",
      "version": "3.7.10"
    }
  },
  "cells": [
    {
      "cell_type": "markdown",
      "metadata": {
        "id": "2754663c"
      },
      "source": [
        "# Import libraries"
      ],
      "id": "2754663c"
    },
    {
      "cell_type": "code",
      "metadata": {
        "collapsed": true,
        "id": "02b086ca",
        "jupyter": {
          "outputs_hidden": true
        },
        "outputId": "c6f57bb0-59d4-48ee-b15d-2b18c9a4239c"
      },
      "source": [
        "pip install sklearn"
      ],
      "id": "02b086ca",
      "execution_count": null,
      "outputs": [
        {
          "name": "stdout",
          "output_type": "stream",
          "text": [
            "Requirement already satisfied: sklearn in c:\\users\\user\\anaconda3\\lib\\site-packages (0.0)Note: you may need to restart the kernel to use updated packages.\n",
            "Requirement already satisfied: scikit-learn in c:\\users\\user\\anaconda3\\lib\\site-packages (from sklearn) (0.23.1)\n",
            "Requirement already satisfied: numpy>=1.13.3 in c:\\users\\user\\anaconda3\\lib\\site-packages (from scikit-learn->sklearn) (1.17.0)\n",
            "\n",
            "Requirement already satisfied: joblib>=0.11 in c:\\users\\user\\anaconda3\\lib\\site-packages (from scikit-learn->sklearn) (0.16.0)\n",
            "Requirement already satisfied: scipy>=0.19.1 in c:\\users\\user\\anaconda3\\lib\\site-packages (from scikit-learn->sklearn) (1.5.0)\n",
            "Requirement already satisfied: threadpoolctl>=2.0.0 in c:\\users\\user\\anaconda3\\lib\\site-packages (from scikit-learn->sklearn) (2.1.0)\n"
          ]
        },
        {
          "name": "stderr",
          "output_type": "stream",
          "text": [
            "WARNING: You are using pip version 20.2.2; however, version 21.3.1 is available.\n",
            "You should consider upgrading via the 'C:\\Users\\User\\Anaconda3\\python.exe -m pip install --upgrade pip' command.\n"
          ]
        }
      ]
    },
    {
      "cell_type": "code",
      "metadata": {
        "collapsed": true,
        "jupyter": {
          "outputs_hidden": true
        },
        "id": "10898131",
        "outputId": "db321b0e-5132-4870-cebe-6635a3b8f023"
      },
      "source": [
        "pip install pandas\n"
      ],
      "id": "10898131",
      "execution_count": null,
      "outputs": [
        {
          "name": "stdout",
          "output_type": "stream",
          "text": [
            "Requirement already satisfied: pandas in c:\\users\\user\\anaconda3\\lib\\site-packages (1.0.5)\n",
            "Requirement already satisfied: numpy>=1.13.3 in c:\\users\\user\\anaconda3\\lib\\site-packages (from pandas) (1.17.0)\n",
            "Requirement already satisfied: python-dateutil>=2.6.1 in c:\\users\\user\\anaconda3\\lib\\site-packages (from pandas) (2.8.1)\n",
            "Requirement already satisfied: pytz>=2017.2 in c:\\users\\user\\anaconda3\\lib\\site-packages (from pandas) (2020.1)\n",
            "Requirement already satisfied: six>=1.5 in c:\\users\\user\\anaconda3\\lib\\site-packages (from python-dateutil>=2.6.1->pandas) (1.15.0)\n",
            "Note: you may need to restart the kernel to use updated packages.\n"
          ]
        },
        {
          "name": "stderr",
          "output_type": "stream",
          "text": [
            "WARNING: You are using pip version 20.2.2; however, version 21.3.1 is available.\n",
            "You should consider upgrading via the 'C:\\Users\\User\\Anaconda3\\python.exe -m pip install --upgrade pip' command.\n"
          ]
        }
      ]
    },
    {
      "cell_type": "code",
      "metadata": {
        "collapsed": true,
        "jupyter": {
          "outputs_hidden": true
        },
        "id": "9285d3ba",
        "outputId": "3b1acda1-067c-458d-88fb-3b255ea0cf44"
      },
      "source": [
        "pip install seaborn"
      ],
      "id": "9285d3ba",
      "execution_count": null,
      "outputs": [
        {
          "name": "stdout",
          "output_type": "stream",
          "text": [
            "Requirement already satisfied: seaborn in c:\\users\\user\\anaconda3\\lib\\site-packages (0.10.1)Note: you may need to restart the kernel to use updated packages.\n"
          ]
        },
        {
          "name": "stderr",
          "output_type": "stream",
          "text": [
            "WARNING: You are using pip version 20.2.2; however, version 21.3.1 is available.\n",
            "You should consider upgrading via the 'C:\\Users\\User\\Anaconda3\\python.exe -m pip install --upgrade pip' command.\n"
          ]
        },
        {
          "name": "stdout",
          "output_type": "stream",
          "text": [
            "\n",
            "Requirement already satisfied: matplotlib>=2.1.2 in c:\\users\\user\\anaconda3\\lib\\site-packages (from seaborn) (3.2.2)\n",
            "Requirement already satisfied: pandas>=0.22.0 in c:\\users\\user\\anaconda3\\lib\\site-packages (from seaborn) (1.0.5)\n",
            "Requirement already satisfied: scipy>=1.0.1 in c:\\users\\user\\anaconda3\\lib\\site-packages (from seaborn) (1.5.0)\n",
            "Requirement already satisfied: numpy>=1.13.3 in c:\\users\\user\\anaconda3\\lib\\site-packages (from seaborn) (1.17.0)\n",
            "Requirement already satisfied: python-dateutil>=2.1 in c:\\users\\user\\anaconda3\\lib\\site-packages (from matplotlib>=2.1.2->seaborn) (2.8.1)\n",
            "Requirement already satisfied: cycler>=0.10 in c:\\users\\user\\anaconda3\\lib\\site-packages (from matplotlib>=2.1.2->seaborn) (0.10.0)\n",
            "Requirement already satisfied: kiwisolver>=1.0.1 in c:\\users\\user\\anaconda3\\lib\\site-packages (from matplotlib>=2.1.2->seaborn) (1.2.0)\n",
            "Requirement already satisfied: pyparsing!=2.0.4,!=2.1.2,!=2.1.6,>=2.0.1 in c:\\users\\user\\anaconda3\\lib\\site-packages (from matplotlib>=2.1.2->seaborn) (2.4.7)\n",
            "Requirement already satisfied: pytz>=2017.2 in c:\\users\\user\\anaconda3\\lib\\site-packages (from pandas>=0.22.0->seaborn) (2020.1)\n",
            "Requirement already satisfied: six>=1.5 in c:\\users\\user\\anaconda3\\lib\\site-packages (from python-dateutil>=2.1->matplotlib>=2.1.2->seaborn) (1.15.0)\n"
          ]
        }
      ]
    },
    {
      "cell_type": "code",
      "metadata": {
        "id": "eca15091"
      },
      "source": [
        "#Import\n",
        "import pandas as pd\n",
        "import matplotlib.pyplot as plt\n",
        "from sklearn import tree\n",
        "from sklearn import ensemble\n",
        "from sklearn import svm\n",
        "from sklearn.metrics import mean_squared_error\n",
        "import numpy as np\n",
        "import seaborn as sns\n",
        "from sklearn.preprocessing import StandardScaler\n",
        "from sklearn.model_selection import train_test_split\n",
        "from sklearn.linear_model import LinearRegression\n",
        "from sklearn.neighbors import KNeighborsRegressor"
      ],
      "id": "eca15091",
      "execution_count": null,
      "outputs": []
    },
    {
      "cell_type": "markdown",
      "metadata": {
        "id": "5d9b7eae"
      },
      "source": [
        "# Choose your data, model, split size and hyperparameters:\n",
        "\n",
        "## Data \n",
        "You should pass to `file_name` full name of the file with data. Data must be in the same folder. First column should contain the index, the middle columns should contain variables and the last column - the output. \n",
        "\n",
        "## Model type\n",
        "You should pass to `model_type` the type of model chosen from: \n",
        "1. 'MLR' - for Multi Linear Regression\n",
        "2. 'KNN' - for K-Nearest Neighbors Regression\n",
        "3. 'RF' - for Random Forest Regression\n",
        "4. 'SVR' - for Support Vector Regression \n",
        "5. 'DTR' - for Decision Tree Regression\n",
        "\n",
        "## Split size\n",
        "You should pass to `split_size` number between 0.0 and 1.0 that represents the proportion of the dataset to include in the test dataset. If int, represents the absolute number of test samples. Example: split_size = 0.33 means 77% of data is in train set and 33% in test set. \n",
        "\n",
        "\n",
        "## Hyperparameters\n",
        "You can adjust hyperparameters for the model you have chosen:\n",
        "\n",
        "#### DTR - hyperparameters:\n",
        "- **criterion**: {“squared_error”, “friedman_mse”, “absolute_error”, “poisson”} - The function to measure the quality of a split. Supported criteria are “squared_error” for the mean squared error, which is equal to variance reduction as feature selection criterion and minimizes the L2 loss using the mean of each terminal node, “friedman_mse”, which uses mean squared error with Friedman’s improvement score for potential splits, “absolute_error” for the mean absolute error, which minimizes the L1 loss using the median of each terminal node, and “poisson” which uses reduction in Poisson deviance to find splits.\n",
        "- **splitter**: {“best”, “random”} - the strategy used to choose the split at each node. Supported strategies are “best” to choose the best split and “random” to choose the best random split.\n",
        "\n",
        "\n",
        "\n",
        "#### SVR - hyperparameters:\n",
        "- **kernel**: {‘linear’, ‘poly’, ‘rbf’, ‘sigmoid’, ‘precomputed’} - Specifies the kernel type to be used in the algorithm.\n",
        "- **C**: float - Regularization parameter. The strength of the regularization is inversely proportional to C. Must be strictly positive. The penalty is a squared l2 penalty.\n",
        "- **epsilon**: float - Epsilon in the epsilon-SVR model. It specifies the epsilon-tube within which no penalty is associated in the training loss function with points predicted within a distance epsilon from the actual value.\n",
        "\n",
        "#### RF - hyperparameters:\n",
        "- **n_estimators** : int - The number of trees in the forest.\n",
        "- **max_depth** : int - The maximum depth of the tree. \n",
        "- **min_samples_split** : int - The minimum number of samples required to split an internal node.\n",
        "- **min_samples_leaf** : int - The minimum number of samples required to be at a leaf node. \n",
        "- **max_features** : {“auto”, “sqrt”, “log2”} - The number of features to consider when looking for the best split. If “auto”, then max_features=n_features. If “sqrt”, then max_features=sqrt(n_features). If “log2”, then max_features=log2(n_features).\n",
        "\n",
        "\n",
        "\n",
        "\n"
      ],
      "id": "5d9b7eae"
    },
    {
      "cell_type": "code",
      "metadata": {
        "id": "35c7a2e4"
      },
      "source": [
        "### Cell for user input ### \n",
        "\n",
        "file_name = 'dane.csv'\n",
        "model_type = 'SVR' \n",
        "split_size = 0.33 \n",
        "\n",
        "#hyperparameters\n",
        "criterion,splitter = 'squared_error','best' #used when model_type is 'DTR'\n",
        "\n",
        "#Tu dodajcie te zmienne od których wasz model może zależeć (chodzi o hyperparamety)\n",
        "kernel, C, epsilon = 'linear', 1, 10  #used when model_type is 'SVR'\n",
        "n_estimators, max_depth, min_samples_split, min_samples_leaf, max_features = 200, 20, 2, 2, 'sqrt' #used when model_type is 'RF'\n",
        "\n",
        "n_neighbors = 5      # Number of neighbors to use by default for kneighbors queries.\n",
        "metric = 'Euclidean' # The distance metric to use for the tree. It is a measure of the true straight line distance between two points in Euclidean space.\n",
        "\n"
      ],
      "id": "35c7a2e4",
      "execution_count": null,
      "outputs": []
    },
    {
      "cell_type": "code",
      "metadata": {
        "id": "337514ce"
      },
      "source": [
        "# ujednolicenie zmiennych\n",
        "df = pd.read_csv(file_name)\n",
        "predictions = pd.DataFrame()\n",
        "\n",
        "#Tymczasowy podział danych i skalowanie   \n",
        "X, y = df.drop(columns=['y']).to_numpy(), df['y'].to_numpy()\n",
        "scaler = StandardScaler()\n",
        "X = scaler.fit_transform(X)\n",
        "X_train, X_test, y_train, y_test = train_test_split(X, y,test_size = split_size, random_state=1)\n",
        "\n",
        "\n",
        "#Model MLR\n",
        "def MLR_model(X_train,X_test,y_train):\n",
        "    MLR = LinearRegression()\n",
        "    MLR = MLR.fit(X_train, y_train)\n",
        "    y_pred = MLR.predict(X_test)\n",
        "    y_pred_train = MLR.predict(X_train)\n",
        "    predictions['MLR'] = y_pred\n",
        "\n",
        "    return(MLR)\n",
        "\n",
        "#Model KNN\n",
        "def KNN_model(X_train,X_test,y_train, n_neighbors, metric):\n",
        "    KNN = KNeighborsClassifier()\n",
        "    KNN = KNN.fit(X_train, y_train)\n",
        "    y_pred = KNN.predict(X_test)\n",
        "    y_pred_train = KNN.predict(X_train)\n",
        "\n",
        "    reurn(KNN)\n",
        "\n",
        "# Model RF\n",
        "def RF_model(X_train, X_test, y_train, n_estimators, max_depth, min_samples_split, min_samples_leaf, max_features):\n",
        "    RF = ensemble.RandomForestRegressor()\n",
        "    RF = RF.fit(X_train, y_train)\n",
        "    y_pred = RF.predict(X_test)\n",
        "    y_pred_train = RF.predict(X_train)\n",
        "    predictions['RF'] = y_pred\n",
        "    #predictions['SVR'] = y_pred\n",
        "    \n",
        "    return RF\n",
        "\n",
        "\n",
        "# Model SVR\n",
        "def SVR_model(X_train, X_test, y_train, kernel, C, epsilon):\n",
        "    SVR = svm.SVR(kernel=kernel, C=C, epsilon=epsilon)\n",
        "    SVR = SVR.fit(X_train, y_train)\n",
        "    y_pred = SVR.predict(X_test)\n",
        "    y_pred_train = SVR.predict(X_train)\n",
        "    \n",
        "    return SVR\n",
        "\n",
        "    \n",
        "# Model DTR\n",
        "def DTR_model(X_train,X_test,y_train,criterion1, splitter1):\n",
        "    DTR = tree.DecisionTreeRegressor(criterion=criterion1,splitter= splitter1)\n",
        "    DTR = DTR.fit(X_train, y_train)\n",
        "    y_pred = DTR.predict(X_test)\n",
        "    y_pred_train = DTR.predict(X_train)\n",
        "\n",
        "    return(DTR)"
      ],
      "id": "337514ce",
      "execution_count": null,
      "outputs": []
    },
    {
      "cell_type": "code",
      "metadata": {
        "tags": [],
        "id": "e146aebb",
        "outputId": "4e6dbeb5-e885-4e1e-e1bd-b007b21176ee"
      },
      "source": [
        "def leverage(X_test):\n",
        "    X = []\n",
        "\n",
        "    for i in range(len(X_test)):\n",
        "        Y = [1]+[X_test[i][j] for j in range(len(X_test[i]))]\n",
        "        X.append(Y)\n",
        "    X = np.array(X)\n",
        "    X = np.asmatrix(X)  \n",
        "    XT = X.transpose()\n",
        "    XX1 = np.linalg.inv(np.dot(XT,X))\n",
        "    H = np.dot(np.dot(X,XX1),XT)\n",
        "    hi = [np.asarray(H)[i][i] for i in range(len(np.asarray(H)))]\n",
        "    return(hi)\n",
        "\n",
        "def std_res(y_pred,y_test,hi):\n",
        "    std_res = []\n",
        "    for i in range(len(y_pred)):\n",
        "        std_res.append(y_test[i]/(y_pred[i]*np.sqrt(1-hi[i])))\n",
        "    return(std_res)\n",
        "\n",
        "if(model_type == 'DTR'):\n",
        "    model = DTR_model(X_train,X_test,y_train,criterion,splitter)\n",
        "elif(model_type == 'SVR'):\n",
        "    model = SVR_model(X_train, X_test, y_train, kernel, C, epsilon)\n",
        "elif(model_type == 'RF'):\n",
        "    model = RF_model(X_train, X_test, y_train, n_estimators, max_depth, min_samples_split, min_samples_leaf, max_features)\n",
        "elif(model_type == ''):\n",
        "    pass #zróbcie podobne dopiski tu i będzie dalej wszystko działać\n",
        "\n",
        "from sklearn.metrics import r2_score\n",
        "y_pred = model.predict(X_test)\n",
        "y_pred_train = model.predict(X_train)\n",
        "hi= leverage(X_test)\n",
        "std_res1 = std_res(y_pred,y_test,hi)\n",
        "hi_train = leverage(X_train)\n",
        "std_res2 = std_res(y_pred_train,y_train,hi_train)\n",
        "print('RMSE = ',mean_squared_error(y_test, y_pred,squared=False),' R^2 = ', r2_score(y_test,y_pred))\n"
      ],
      "id": "e146aebb",
      "execution_count": null,
      "outputs": [
        {
          "name": "stdout",
          "output_type": "stream",
          "text": [
            "RMSE =  19.352488482902597  R^2 =  0.8993180845687501\n"
          ]
        }
      ]
    },
    {
      "cell_type": "code",
      "metadata": {
        "id": "f408a2d2",
        "outputId": "ea024fcb-a950-4bab-ecf5-dc02f7f065cb"
      },
      "source": [
        "plot_lm_4 = plt.figure()\n",
        "plt.scatter(hi, std_res1, alpha=0.5)\n",
        "plt.scatter(hi_train, std_res2, alpha=0.5)\n",
        "plot_lm_4.axes[0].set_xlim(0, max(hi)+0.01)\n",
        "plot_lm_4.axes[0].set_ylim(-3, 5)\n",
        "plot_lm_4.axes[0].set_title('Residuals vs Leverage')\n",
        "plot_lm_4.axes[0].set_xlabel('Leverage')\n",
        "plot_lm_4.axes[0].set_ylabel('Standardized Residuals')\n"
      ],
      "id": "f408a2d2",
      "execution_count": null,
      "outputs": [
        {
          "data": {
            "text/plain": [
              "Text(0, 0.5, 'Standardized Residuals')"
            ]
          },
          "execution_count": 63,
          "metadata": {},
          "output_type": "execute_result"
        },
        {
          "data": {
            "image/png": "[encoded data removed]",
            "text/plain": [
              "<Figure size 432x288 with 1 Axes>"
            ]
          },
          "metadata": {
            "needs_background": "light"
          },
          "output_type": "display_data"
        }
      ]
    },
    {
      "cell_type": "code",
      "metadata": {
        "id": "55eaddec",
        "outputId": "e05a517e-650c-4f47-b109-92f62881a8c2"
      },
      "source": [
        "x = [i for i in range(len(y_pred))]\n",
        "plt.scatter(x,y_pred, color = 'red')\n",
        "plt.scatter(x,y_test, color = 'green')\n",
        "plt.show()"
      ],
      "id": "55eaddec",
      "execution_count": null,
      "outputs": [
        {
          "data": {
            "image/png": "[encoded data removed]",
            "text/plain": [
              "<Figure size 432x288 with 1 Axes>"
            ]
          },
          "metadata": {
            "needs_background": "light"
          },
          "output_type": "display_data"
        }
      ]
    },
    {
      "cell_type": "code",
      "metadata": {
        "id": "2bb9365c"
      },
      "source": [
        ""
      ],
      "id": "2bb9365c",
      "execution_count": null,
      "outputs": []
    }
  ]
}