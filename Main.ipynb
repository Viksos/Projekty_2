{
  "nbformat": 4,
  "nbformat_minor": 5,
  "metadata": {
    "kernelspec": {
      "display_name": "Python 3 (ipykernel)",
      "language": "python",
      "name": "python3"
    },
    "language_info": {
      "codemirror_mode": {
        "name": "ipython",
        "version": 3
      },
      "file_extension": ".py",
      "mimetype": "text/x-python",
      "name": "python",
      "nbconvert_exporter": "python",
      "pygments_lexer": "ipython3",
      "version": "3.7.10"
    },
    "colab": {
      "name": "Main.ipynb",
      "provenance": []
    }
  },
  "cells": [
    {
      "cell_type": "code",
      "metadata": {
        "id": "9c9f1cdc-55d0-47ba-9721-1b4b81e77b00",
        "outputId": "7dcd14a6-ef9e-4294-a61e-5d36867d9612",
        "colab": {
          "base_uri": "https://localhost:8080/"
        }
      },
      "source": [
        "#Komórka na importy\n",
        "print('coś')"
      ],
      "id": "9c9f1cdc-55d0-47ba-9721-1b4b81e77b00",
      "execution_count": 1,
      "outputs": [
        {
          "output_type": "stream",
          "name": "stdout",
          "text": [
            "coś\n"
          ]
        }
      ]
    },
    {
      "cell_type": "code",
      "metadata": {
        "id": "7122b363-beb8-42ff-ae9c-fc19abc8c96b"
      },
      "source": [
        "# Podział Danych za pomocą GA (Adrian)\n",
        "#TODO\n",
        "\n",
        "#Model MLR (Paula)\n",
        "#TODO\n",
        "\n",
        "#Model KNN (Paula)\n",
        "#TODO\n",
        "\n",
        "# Model RF (Ada)\n",
        "#TODO\n",
        "\n",
        "# Model SVR (Ada)\n",
        "#TODO\n",
        "\n",
        "# Model DTR (Michał)\n",
        "#TODO"
      ],
      "id": "7122b363-beb8-42ff-ae9c-fc19abc8c96b",
      "execution_count": null,
      "outputs": []
    },
    {
      "cell_type": "code",
      "metadata": {
        "id": "bed00de9-bcda-4146-9b6e-26ef6a415b3b"
      },
      "source": [
        "#Output (wykresiki Michał)\n"
      ],
      "id": "bed00de9-bcda-4146-9b6e-26ef6a415b3b",
      "execution_count": null,
      "outputs": []
    }
  ]
}