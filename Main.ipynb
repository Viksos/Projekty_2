{
 "cells": [
  {
   "cell_type": "code",
   "execution_count": 2,
   "id": "9c9f1cdc-55d0-47ba-9721-1b4b81e77b00",
   "metadata": {},
   "outputs": [],
   "source": [
    "#Komórka na importy\n"
   ]
  },
  {
   "cell_type": "code",
   "execution_count": null,
   "id": "7122b363-beb8-42ff-ae9c-fc19abc8c96b",
   "metadata": {},
   "outputs": [],
   "source": [
    "# Podział Danych za pomocą GA (Adrian)\n",
    "#TODO\n",
    "\n",
    "#Model MLR (Paula)\n",
    "#TODO\n",
    "\n",
    "#Model KNN (Paula)\n",
    "#TODO\n",
    "\n",
    "# Model RF (Ada)\n",
    "#TODO\n",
    "\n",
    "# Model SVR (Ada)\n",
    "#TODO\n",
    "\n",
    "# Model DTR (Michał)\n",
    "#TODO"
   ]
  },
  {
   "cell_type": "code",
   "execution_count": null,
   "id": "bed00de9-bcda-4146-9b6e-26ef6a415b3b",
   "metadata": {},
   "outputs": [],
   "source": [
    "#Output (wykresiki Michał)\n"
   ]
  }
 ],
 "metadata": {
  "kernelspec": {
   "display_name": "Python 3 (ipykernel)",
   "language": "python",
   "name": "python3"
  },
  "language_info": {
   "codemirror_mode": {
    "name": "ipython",
    "version": 3
   },
   "file_extension": ".py",
   "mimetype": "text/x-python",
   "name": "python",
   "nbconvert_exporter": "python",
   "pygments_lexer": "ipython3",
   "version": "3.7.10"
  }
 },
 "nbformat": 4,
 "nbformat_minor": 5
}
