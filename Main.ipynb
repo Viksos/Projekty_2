{
  "nbformat": 4,
  "nbformat_minor": 5,
  "metadata": {
    "kernelspec": {
      "display_name": "Python 3 (ipykernel)",
      "language": "python",
      "name": "python3"
    },
    "language_info": {
      "codemirror_mode": {
        "name": "ipython",
        "version": 3
      },
      "file_extension": ".py",
      "mimetype": "text/x-python",
      "name": "python",
      "nbconvert_exporter": "python",
      "pygments_lexer": "ipython3",
      "version": "3.7.10"
    },
    "colab": {
      "name": "Main.ipynb",
      "provenance": []
    }
  },
  "cells": [
    {
      "cell_type": "code",
      "metadata": {
        "id": "62763af1-0b8a-4bb6-9c0a-74626426e880",
        "outputId": "c6f57bb0-59d4-48ee-b15d-2b18c9a4239c"
      },
      "source": [
        "pip install sklearn\n",
        "pip install pandas"
      ],
      "id": "62763af1-0b8a-4bb6-9c0a-74626426e880",
      "execution_count": null,
      "outputs": [
        {
          "name": "stdout",
          "output_type": "stream",
          "text": [
            "Collecting sklearn\n",
            "  Downloading sklearn-0.0.tar.gz (1.1 kB)\n",
            "Collecting scikit-learn\n",
            "  Downloading scikit_learn-1.0.1-cp37-cp37m-manylinux_2_12_x86_64.manylinux2010_x86_64.whl (23.2 MB)\n",
            "\u001b[K     |████████████████████████████████| 23.2 MB 4.8 MB/s eta 0:00:01\n",
            "\u001b[?25hRequirement already satisfied: numpy>=1.14.6 in /srv/conda/envs/notebook/lib/python3.7/site-packages (from scikit-learn->sklearn) (1.21.4)\n",
            "Collecting threadpoolctl>=2.0.0\n",
            "  Downloading threadpoolctl-3.0.0-py3-none-any.whl (14 kB)\n",
            "Requirement already satisfied: scipy>=1.1.0 in /srv/conda/envs/notebook/lib/python3.7/site-packages (from scikit-learn->sklearn) (1.7.2)\n",
            "Collecting joblib>=0.11\n",
            "  Downloading joblib-1.1.0-py2.py3-none-any.whl (306 kB)\n",
            "\u001b[K     |████████████████████████████████| 306 kB 45.1 MB/s eta 0:00:01\n",
            "\u001b[?25hBuilding wheels for collected packages: sklearn\n",
            "  Building wheel for sklearn (setup.py) ... \u001b[?25ldone\n",
            "\u001b[?25h  Created wheel for sklearn: filename=sklearn-0.0-py2.py3-none-any.whl size=1309 sha256=6e57abe52a2952506adb4a59a8b6de2696f2db85c1b913ae062cf23af603614d\n",
            "  Stored in directory: /home/jovyan/.cache/pip/wheels/46/ef/c3/157e41f5ee1372d1be90b09f74f82b10e391eaacca8f22d33e\n",
            "Successfully built sklearn\n",
            "Installing collected packages: threadpoolctl, joblib, scikit-learn, sklearn\n",
            "Successfully installed joblib-1.1.0 scikit-learn-1.0.1 sklearn-0.0 threadpoolctl-3.0.0\n",
            "Note: you may need to restart the kernel to use updated packages.\n"
          ]
        }
      ]
    },
    {
      "cell_type": "code",
      "metadata": {
        "id": "550f2a87-5f76-41c3-875f-2a2c64b64a3a"
      },
      "source": [
        "#Import\n",
        "import pandas as pd\n",
        "import matplotlib.pyplot as plt\n",
        "from sklearn import tree\n",
        "import numpy as np"
      ],
      "id": "550f2a87-5f76-41c3-875f-2a2c64b64a3a",
      "execution_count": null,
      "outputs": []
    },
    {
      "cell_type": "code",
      "metadata": {
        "id": "9c9f1cdc-55d0-47ba-9721-1b4b81e77b00"
      },
      "source": [
        "#Komórka na importy\n",
        "file_name = 'dane.csv'\n",
        "model_type = 'DTR'"
      ],
      "id": "9c9f1cdc-55d0-47ba-9721-1b4b81e77b00",
      "execution_count": null,
      "outputs": []
    },
    {
      "cell_type": "code",
      "metadata": {
        "id": "7122b363-beb8-42ff-ae9c-fc19abc8c96b",
        "outputId": "f3ec4f08-e4bf-4047-cc5b-90f73def16c0"
      },
      "source": [
        "# ujednolicenie zmiennych\n",
        "df = pd.read_csv(file_name)\n",
        "predictions = pd.DataFrame()\n",
        "#Tymczasowy podział danych\n",
        "from sklearn.model_selection import train_test_split\n",
        "    \n",
        "X, y = df.drop(columns=['y']).to_numpy(),df['y'].to_numpy()\n",
        "X_train, X_test, y_train, y_test = train_test_split(X, y,test_size = 0.33, random_state=1)\n",
        "\n",
        "# Podział Danych za pomocą GA (Adrian)\n",
        "#TODO\n",
        "# proszę nazwij ostatecznie podział tak jak w tymczasowym podziale\n",
        "\n",
        "#Model MLR (Paula)\n",
        "#TODO\n",
        "#predictions['MLR'] = y_pred\n",
        "\n",
        "#Model KNN (Paula)\n",
        "#TODO\n",
        "#predictions['KNN'] = y_pred\n",
        "\n",
        "# Model RF (Ada)\n",
        "#TODO\n",
        "#predictions['RF'] = y_pred\n",
        "\n",
        "# Model SVR (Ada)\n",
        "#TODO\n",
        "#predictions['SVR'] = y_pred\n",
        "\n",
        "# Model DTR (Michał)\n",
        "DTR = sk.tree.DecisionTreeRegressor()\n",
        "DTR = DTR.fit(X_train, y_train)\n",
        "y_pred = DTR.predict(X_test)\n",
        "predictions['DTR'] = y_pred\n",
        "print(np.mean(y_test - y_pred))"
      ],
      "id": "7122b363-beb8-42ff-ae9c-fc19abc8c96b",
      "execution_count": null,
      "outputs": [
        {
          "name": "stdout",
          "output_type": "stream",
          "text": [
            "3.1262063904035275\n"
          ]
        }
      ]
    },
    {
      "cell_type": "code",
      "metadata": {
        "id": "bed00de9-bcda-4146-9b6e-26ef6a415b3b",
        "outputId": "e05a517e-650c-4f47-b109-92f62881a8c2"
      },
      "source": [
        "#Output (wykresiki Michał)\n",
        "y_pred = predictions[model_type]\n",
        "x = [i for i in range(len(y_pred))]\n",
        "plt.scatter(x,y_pred, color = 'red')\n",
        "plt.scatter(x,y_test, color = 'green')\n",
        "plt.show()"
      ],
      "id": "bed00de9-bcda-4146-9b6e-26ef6a415b3b",
      "execution_count": null,
      "outputs": [
        {
          "data": {
            "image/png": "[encoded data removed]",
            "text/plain": [
              "<Figure size 432x288 with 1 Axes>"
            ]
          },
          "metadata": {
            "needs_background": "light"
          },
          "output_type": "display_data"
        }
      ]
    },
    {
      "cell_type": "code",
      "metadata": {
        "id": "8733feff-b927-41d2-a3b6-2052d414c281"
      },
      "source": [
        ""
      ],
      "id": "8733feff-b927-41d2-a3b6-2052d414c281",
      "execution_count": null,
      "outputs": []
    }
  ]
}